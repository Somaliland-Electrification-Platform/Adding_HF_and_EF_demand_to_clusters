{
 "cells": [
  {
   "cell_type": "markdown",
   "metadata": {},
   "source": [
    "# Energizing Health Facilities in SSA: A geospatial approach\n",
    "<br>\n",
    "\n",
    "**Conceptualization, Methodology & Code:** [Alexandros Korkovelos](https://github.com/akorkovelos)<br> **Supervision, Review and Advisory support:** [Benjamin P. Stewart](https://github.com/bpstewar), [Ashish Shrestha](mailto:ashrestha1@worldbank.org), [Rhonda Lenai Jordan](mailto:rjordan@worldbank.org)<br> **Funding:** The World Bank"
   ]
  },
  {
   "cell_type": "markdown",
   "metadata": {},
   "source": [
    "## Rationale\n",
    "\n",
    "Globally, it is estimated that ~789 million people live without access to electricity. This is a critical service gap that affects socio-economic development and human well-being, especially in poor, rural populations in least developed areas. \n",
    "\n",
    "At the same time, COVID-19 has brought into sharp focus the importance of electricity in the health sector.  Access to electricity, in health clinics and posts, keeps people connected, allows for information management, the refrigeration of medicines and other services to protect vulnerable populations. Therefore, the lack of reliable power is undermining the quality of health care for millions of people. This creates an urgent need to \"energize\" health facilities so that there is a timely response to the COVID-19 crisis.\n",
    "\n",
    "This notebook serves as an exploratory geo-spatial approach of estimating electricity requirements for health facilities, in areas where detailed data of this kind is scarce. It leverages existing open access datasets (and models) in order to provide a high level picture of annual electricity requirements in those facilities and later on indicate how these can be met as part of a least-cost electrification and/or prioritization plan.\n",
    "\n",
    "This exercise focuses on the district of [Mecanhelas](https://en.wikipedia.org/wiki/Mecanhelas_District) in Mozambique. However, the code can be scaled up at national or even regional level. \n",
    "<br>\n",
    "\n",
    "---"
   ]
  },
  {
   "cell_type": "markdown",
   "metadata": {},
   "source": [
    "\n",
    "# Step 1. Setting up python env & Importing datasets"
   ]
  },
  {
   "cell_type": "markdown",
   "metadata": {},
   "source": [
    "## Import necessary modules\n",
    "\n",
    "As part of any modeling exercise in jupyter, the first step requires that the necessary python modules are imported. You may refer to the [requirements.txt]() to check dependencies for this notebook."
   ]
  },
  {
   "cell_type": "code",
   "execution_count": 1,
   "metadata": {
    "code_folding": []
   },
   "outputs": [],
   "source": [
    "# Import python modules\n",
    "import geopandas as gpd\n",
    "import pandas as pd\n",
    "import pyproj\n",
    "import numpy as np\n",
    "\n",
    "from functools import reduce\n",
    "from shapely.geometry import Point, Polygon, MultiPoint\n",
    "from shapely.ops import nearest_points\n",
    "\n",
    "import datapane as dp\n",
    "# !datapane login --token=\"yourpersonaltoken\"\n",
    "\n",
    "import folium\n",
    "from folium.features import GeoJsonTooltip\n",
    "import branca.colormap as cm\n",
    "import os\n",
    "from IPython.display import display, Markdown, HTML, FileLink, FileLinks\n",
    "\n",
    "import matplotlib.pyplot as plt\n",
    "from matplotlib.ticker import MaxNLocator\n",
    "\n",
    "%matplotlib inline"
   ]
  },
  {
   "cell_type": "markdown",
   "metadata": {},
   "source": [
    "## Importing datasets\n",
    "\n",
    "Here we import the datasets that we are going to work with. These include the following three:\n",
    "\n",
    "**1. Administrative boundaries (vector polygon):** This defines the boundary box over our area of interest. In this example we use the administrative boundaries of Mecanhelas, a province in north-western Mozambique. You may retrieve this from [GADM](https://gadm.org/) \n",
    "\n",
    "**2. Locations of health facilities (vector points)**: In this case we use a spatial database of health facilities provided by [Maina et al.](https://www.nature.com/articles/s41597-019-0142-2). The dataset consists of 98745 public health facilities in Sub-Sahara Africa, all of which are geolocated.\n",
    "\n",
    "**3. Population clusters (vector polygons)**: This refers to a vectorized version of built-up areas as described and developed by [Korkovelos et al.](https://www.mdpi.com/1996-1073/12/7/1395). Population clusters for all countries in Sub-Saharan Africa are open access and available at [PopClusters](https://data.mendeley.com/datasets/z9zfhzk8cr/6). (In this exercise we use Version 6 released 01-09-2020).\n",
    "\n",
    "<br>\n",
    "\n",
    "> **Note 1**. For the purposes of this exercise both (2) and (3) have been clipped based on (1) before being imported in the notebook. You may used [geopandas](https://geopandas.org/reference/geopandas.clip.html) or [Qgis](https://docs.qgis.org/2.8/en/docs/user_manual/processing_algs/gdalogr/ogr_geoprocessing/clipvectorsbypolygon.html) to do this.\n",
    "\n",
    "> **Note 2**. All datasets are in WGS84 coordinate systems prior importing. Please make sure that this is the case and correct if otherwise."
   ]
  },
  {
   "cell_type": "markdown",
   "metadata": {},
   "source": [
    "### Importing admin boundary as geodataframe"
   ]
  },
  {
   "cell_type": "code",
   "execution_count": 2,
   "metadata": {},
   "outputs": [],
   "source": [
    "# Define path and name of the file\n",
    "admin_path = r\"input_data\\Testing_Sample\"\n",
    "admin_name = \"mecanhelas_admin.gpkg\""
   ]
  },
  {
   "cell_type": "code",
   "execution_count": 3,
   "metadata": {},
   "outputs": [],
   "source": [
    "# Create a new geo-dataframe\n",
    "admin_gdf = gpd.read_file(admin_path + \"\\\\\" + admin_name)"
   ]
  },
  {
   "cell_type": "code",
   "execution_count": 4,
   "metadata": {
    "code_folding": []
   },
   "outputs": [
    {
     "data": {
      "image/png": "[encoded data removed]",
      "text/plain": [
       "<Figure size 720x720 with 1 Axes>"
      ]
     },
     "metadata": {
      "needs_background": "light"
     },
     "output_type": "display_data"
    }
   ],
   "source": [
    "# Create the axis first\n",
    "fig, ax = plt.subplots(figsize=(10, 10))\n",
    "admin_gdf.plot(ax=ax, edgecolor='black', alpha=0.2)\n",
    "ax.set_aspect('equal', 'box')\n",
    "txt = ax.set_title('Mecanhelas Administrative Boundary'.format(\"\"))"
   ]
  },
  {
   "cell_type": "markdown",
   "metadata": {},
   "source": [
    "### Importing health facilities \n",
    "\n",
    "**Note** that for the code below to work properly this should be a \"Point\" layer; in case the geometry is characterized as \"Multipoint\" you should convert it into a \"Point\" to proceed. You may use [Qgis](http://www.saga-gis.org/saga_tool_doc/3.0.0/shapes_points_15.html) to do this."
   ]
  },
  {
   "cell_type": "code",
   "execution_count": 5,
   "metadata": {},
   "outputs": [],
   "source": [
    "# Define path and name of the file\n",
    "health_path = r\"input_data\\Testing_Sample\"\n",
    "health_name = \"mec_health_index.gpkg\""
   ]
  },
  {
   "cell_type": "code",
   "execution_count": 6,
   "metadata": {},
   "outputs": [],
   "source": [
    "# Create a new geo-dataframe\n",
    "health_gdf = gpd.read_file(health_path + \"\\\\\" + health_name)"
   ]
  },
  {
   "cell_type": "code",
   "execution_count": 7,
   "metadata": {},
   "outputs": [
    {
     "data": {
      "text/html": [
       "<div>\n",
       "<style scoped>\n",
       "    .dataframe tbody tr th:only-of-type {\n",
       "        vertical-align: middle;\n",
       "    }\n",
       "\n",
       "    .dataframe tbody tr th {\n",
       "        vertical-align: top;\n",
       "    }\n",
       "\n",
       "    .dataframe thead th {\n",
       "        text-align: right;\n",
       "    }\n",
       "</style>\n",
       "<table border=\"1\" class=\"dataframe\">\n",
       "  <thead>\n",
       "    <tr style=\"text-align: right;\">\n",
       "      <th></th>\n",
       "      <th>Country</th>\n",
       "      <th>Admin1</th>\n",
       "      <th>Facility n</th>\n",
       "      <th>Facility t</th>\n",
       "      <th>Ownership</th>\n",
       "      <th>Lat</th>\n",
       "      <th>Long</th>\n",
       "      <th>LL source</th>\n",
       "      <th>geometry</th>\n",
       "    </tr>\n",
       "  </thead>\n",
       "  <tbody>\n",
       "    <tr>\n",
       "      <th>0</th>\n",
       "      <td>Mozambique</td>\n",
       "      <td>Niassa</td>\n",
       "      <td>Candulo Centro de Sa?de Rural II</td>\n",
       "      <td>Centro de Sa?de Rural II</td>\n",
       "      <td>None</td>\n",
       "      <td>-15.2897</td>\n",
       "      <td>35.9478</td>\n",
       "      <td>GPS</td>\n",
       "      <td>POINT (35.94780 -15.28970)</td>\n",
       "    </tr>\n",
       "    <tr>\n",
       "      <th>1</th>\n",
       "      <td>Mozambique</td>\n",
       "      <td>Niassa</td>\n",
       "      <td>Caronga Centro de Sa?de Rural II</td>\n",
       "      <td>Centro de Sa?de Rural II</td>\n",
       "      <td>None</td>\n",
       "      <td>-14.9519</td>\n",
       "      <td>36.1639</td>\n",
       "      <td>GPS</td>\n",
       "      <td>POINT (36.16390 -14.95190)</td>\n",
       "    </tr>\n",
       "    <tr>\n",
       "      <th>2</th>\n",
       "      <td>Mozambique</td>\n",
       "      <td>Niassa</td>\n",
       "      <td>Chamba Centro de Sa?de Rural II</td>\n",
       "      <td>Centro de Sa?de Rural II</td>\n",
       "      <td>None</td>\n",
       "      <td>-15.3269</td>\n",
       "      <td>36.1317</td>\n",
       "      <td>GPS</td>\n",
       "      <td>POINT (36.13170 -15.32690)</td>\n",
       "    </tr>\n",
       "  </tbody>\n",
       "</table>\n",
       "</div>"
      ],
      "text/plain": [
       "      Country  Admin1                        Facility n  \\\n",
       "0  Mozambique  Niassa  Candulo Centro de Sa?de Rural II   \n",
       "1  Mozambique  Niassa  Caronga Centro de Sa?de Rural II   \n",
       "2  Mozambique  Niassa   Chamba Centro de Sa?de Rural II   \n",
       "\n",
       "                 Facility t Ownership      Lat     Long LL source  \\\n",
       "0  Centro de Sa?de Rural II      None -15.2897  35.9478       GPS   \n",
       "1  Centro de Sa?de Rural II      None -14.9519  36.1639       GPS   \n",
       "2  Centro de Sa?de Rural II      None -15.3269  36.1317       GPS   \n",
       "\n",
       "                     geometry  \n",
       "0  POINT (35.94780 -15.28970)  \n",
       "1  POINT (36.16390 -14.95190)  \n",
       "2  POINT (36.13170 -15.32690)  "
      ]
     },
     "execution_count": 7,
     "metadata": {},
     "output_type": "execute_result"
    }
   ],
   "source": [
    "health_gdf.head(3)"
   ]
  },
  {
   "cell_type": "code",
   "execution_count": 8,
   "metadata": {},
   "outputs": [],
   "source": [
    "# Adding an index column\n",
    "health_gdf['index'] = range(1, len(health_gdf)+1)"
   ]
  },
  {
   "cell_type": "markdown",
   "metadata": {},
   "source": [
    "#### ... and visualizing "
   ]
  },
  {
   "cell_type": "code",
   "execution_count": 9,
   "metadata": {},
   "outputs": [
    {
     "data": {
      "image/png": "[encoded data removed]",
      "text/plain": [
       "<Figure size 720x720 with 1 Axes>"
      ]
     },
     "metadata": {
      "needs_background": "light"
     },
     "output_type": "display_data"
    }
   ],
   "source": [
    "fig, ax = plt.subplots(figsize=(10, 10))\n",
    "\n",
    "admin_gdf.plot(ax=ax, edgecolor='brown', alpha=0.2)\n",
    "health_gdf.plot(ax=ax, legend=True, markersize=3, figsize=(15, 15), alpha=0.5)\n",
    "\n",
    "ax.set_aspect('equal', 'box')\n",
    "txt = ax.set_title('Location of health facilities in Mecanhelas'.format(\"\"))"
   ]
  },
  {
   "cell_type": "markdown",
   "metadata": {},
   "source": [
    "### Importing population clusters"
   ]
  },
  {
   "cell_type": "code",
   "execution_count": 10,
   "metadata": {},
   "outputs": [],
   "source": [
    "# Define path and name of the file\n",
    "clusters_path = r\"input_data\\Testing_Sample\"\n",
    "clusters_name = \"mecanhelas_clusters.gpkg\""
   ]
  },
  {
   "cell_type": "code",
   "execution_count": 11,
   "metadata": {},
   "outputs": [],
   "source": [
    "clusters_gdf = gpd.read_file(clusters_path + \"\\\\\" + clusters_name)"
   ]
  },
  {
   "cell_type": "code",
   "execution_count": 12,
   "metadata": {},
   "outputs": [
    {
     "data": {
      "text/html": [
       "<div>\n",
       "<style scoped>\n",
       "    .dataframe tbody tr th:only-of-type {\n",
       "        vertical-align: middle;\n",
       "    }\n",
       "\n",
       "    .dataframe tbody tr th {\n",
       "        vertical-align: top;\n",
       "    }\n",
       "\n",
       "    .dataframe thead th {\n",
       "        text-align: right;\n",
       "    }\n",
       "</style>\n",
       "<table border=\"1\" class=\"dataframe\">\n",
       "  <thead>\n",
       "    <tr style=\"text-align: right;\">\n",
       "      <th></th>\n",
       "      <th>ElecPop</th>\n",
       "      <th>NightLight</th>\n",
       "      <th>id</th>\n",
       "      <th>Country</th>\n",
       "      <th>Population</th>\n",
       "      <th>Area</th>\n",
       "      <th>IsUrban</th>\n",
       "      <th>geometry</th>\n",
       "    </tr>\n",
       "  </thead>\n",
       "  <tbody>\n",
       "    <tr>\n",
       "      <th>0</th>\n",
       "      <td>0.0</td>\n",
       "      <td>0.0</td>\n",
       "      <td>5210</td>\n",
       "      <td>Mozambique</td>\n",
       "      <td>6.240442</td>\n",
       "      <td>0.009</td>\n",
       "      <td>0</td>\n",
       "      <td>MULTIPOLYGON (((35.50626 -14.14131, 35.50626 -...</td>\n",
       "    </tr>\n",
       "    <tr>\n",
       "      <th>1</th>\n",
       "      <td>0.0</td>\n",
       "      <td>0.0</td>\n",
       "      <td>5218</td>\n",
       "      <td>Mozambique</td>\n",
       "      <td>124.808842</td>\n",
       "      <td>0.060</td>\n",
       "      <td>0</td>\n",
       "      <td>MULTIPOLYGON (((35.55793 -14.13881, 35.55793 -...</td>\n",
       "    </tr>\n",
       "  </tbody>\n",
       "</table>\n",
       "</div>"
      ],
      "text/plain": [
       "   ElecPop  NightLight    id     Country  Population   Area  IsUrban  \\\n",
       "0      0.0         0.0  5210  Mozambique    6.240442  0.009        0   \n",
       "1      0.0         0.0  5218  Mozambique  124.808842  0.060        0   \n",
       "\n",
       "                                            geometry  \n",
       "0  MULTIPOLYGON (((35.50626 -14.14131, 35.50626 -...  \n",
       "1  MULTIPOLYGON (((35.55793 -14.13881, 35.55793 -...  "
      ]
     },
     "execution_count": 12,
     "metadata": {},
     "output_type": "execute_result"
    }
   ],
   "source": [
    "clusters_gdf.head(2)"
   ]
  },
  {
   "cell_type": "markdown",
   "metadata": {},
   "source": [
    "#### ... and creating a new geodataframe with the centroids of each cluster"
   ]
  },
  {
   "cell_type": "code",
   "execution_count": 13,
   "metadata": {},
   "outputs": [],
   "source": [
    "clusters_centroid = gpd.GeoDataFrame(clusters_gdf, geometry=clusters_gdf.centroid)"
   ]
  },
  {
   "cell_type": "code",
   "execution_count": 14,
   "metadata": {},
   "outputs": [
    {
     "data": {
      "image/png": "[encoded data removed]",
      "text/plain": [
       "<Figure size 720x720 with 1 Axes>"
      ]
     },
     "metadata": {
      "needs_background": "light"
     },
     "output_type": "display_data"
    }
   ],
   "source": [
    "fig, ax = plt.subplots(figsize=(10, 10))\n",
    "\n",
    "admin_gdf.plot(ax=ax, edgecolor='brown', alpha=0.2)\n",
    "clusters_centroid.plot(ax=ax, legend=True, markersize=3, figsize=(15, 15), alpha=0.5)\n",
    "\n",
    "ax.set_aspect('equal', 'box')\n",
    "txt = ax.set_title('Population cluster centroids in Mecanhelas'.format(\"\"))"
   ]
  },
  {
   "cell_type": "code",
   "execution_count": 15,
   "metadata": {},
   "outputs": [
    {
     "name": "stdout",
     "output_type": "stream",
     "text": [
      "\n",
      "\u001b[1mNote!\u001b[0m\n",
      "\n",
      "There are 10703 clusters in selected administrative area, where 510759 people reside.\n",
      "These are served by 19 health facilities.\n",
      "\n"
     ]
    }
   ],
   "source": [
    "print ('\\n\\033[1mNote!\\033[0m\\n\\nThere are {} clusters in selected administrative area, where {:.0f} people reside.\\nThese are served by {} health facilities.\\n'.\n",
    "       format(len(clusters_centroid), clusters_centroid.Population.sum(), len(health_gdf)))"
   ]
  },
  {
   "cell_type": "markdown",
   "metadata": {},
   "source": [
    "# Step 2. Spatial Processing of datasets"
   ]
  },
  {
   "cell_type": "markdown",
   "metadata": {},
   "source": [
    "In this part of the code we calculate simple spatial statistics for the health facilities. That is, we use their location and extract values from nearby population clusters. There are two options that we may follow here.\n",
    "\n",
    "**Option 1**: Deploy a nearest hub analysis and calculate statistics associated with the \"catchment\" area of each health facility.\n",
    "\n",
    "**Option 2**: Apply a buffer zone to each facility and calculate statistics for cluster falling within it."
   ]
  },
  {
   "cell_type": "markdown",
   "metadata": {},
   "source": [
    "### Option 1 -- Nearest hub analysis \n",
    "\n",
    "(NNA code retrieved from [shakasom](https://github.com/shakasom/NearestNeighbour-Analysis))"
   ]
  },
  {
   "cell_type": "code",
   "execution_count": 16,
   "metadata": {},
   "outputs": [],
   "source": [
    "# Simple function getting the nearest hub for a given set of points\n",
    "def calculate_nearest(row, destination, val, col=\"geometry\"):\n",
    "    dest_unary = destination[\"geometry\"].unary_union\n",
    "    nearest_geom = nearest_points(row[col], dest_unary)\n",
    "    match_geom = destination.loc[destination.geometry == nearest_geom[1]]\n",
    "    match_value = match_geom[val].to_numpy()[0]\n",
    "    return match_value"
   ]
  },
  {
   "cell_type": "markdown",
   "metadata": {},
   "source": [
    "#### Assign the nearest Health facility (using the health facility id) to each cluster"
   ]
  },
  {
   "cell_type": "code",
   "execution_count": 17,
   "metadata": {},
   "outputs": [],
   "source": [
    "clusters_centroid[\"index\"] = clusters_centroid.apply(calculate_nearest, destination=health_gdf, val=\"index\", axis=1)"
   ]
  },
  {
   "cell_type": "markdown",
   "metadata": {},
   "source": [
    "#### Dissolve clusters based on health facility id & Calculate  basic statistics for each health facility"
   ]
  },
  {
   "cell_type": "code",
   "execution_count": 18,
   "metadata": {},
   "outputs": [
    {
     "name": "stderr",
     "output_type": "stream",
     "text": [
      "C:\\Users\\alexl\\anaconda3\\envs\\agrodem_full\\lib\\site-packages\\pandas\\core\\reshape\\merge.py:643: UserWarning: merging between different levels can give an unintended result (1 levels on the left,2 on the right)\n",
      "  warnings.warn(msg, UserWarning)\n"
     ]
    }
   ],
   "source": [
    "stat_list = ['sum', 'mean', 'count']\n",
    "\n",
    "HF_hub_stats = clusters_centroid.dissolve(by='index', aggfunc=stat_list)"
   ]
  },
  {
   "cell_type": "code",
   "execution_count": 19,
   "metadata": {},
   "outputs": [
    {
     "data": {
      "text/plain": [
       "Index([             'geometry',      ('ElecPop', 'sum'),\n",
       "           ('ElecPop', 'mean'),    ('ElecPop', 'count'),\n",
       "         ('NightLight', 'sum'),  ('NightLight', 'mean'),\n",
       "       ('NightLight', 'count'),           ('id', 'sum'),\n",
       "                ('id', 'mean'),         ('id', 'count'),\n",
       "         ('Population', 'sum'),  ('Population', 'mean'),\n",
       "       ('Population', 'count'),         ('Area', 'sum'),\n",
       "              ('Area', 'mean'),       ('Area', 'count'),\n",
       "            ('IsUrban', 'sum'),     ('IsUrban', 'mean'),\n",
       "          ('IsUrban', 'count')],\n",
       "      dtype='object')"
      ]
     },
     "execution_count": 19,
     "metadata": {},
     "output_type": "execute_result"
    }
   ],
   "source": [
    "HF_hub_stats.columns"
   ]
  },
  {
   "cell_type": "code",
   "execution_count": 20,
   "metadata": {},
   "outputs": [],
   "source": [
    "# Select columns to be deleted\n",
    "droping_cols = [('ElecPop', 'mean'),\n",
    "                ('ElecPop', 'count'),\n",
    "                ('NightLight', 'sum'),\n",
    "                ('NightLight', 'mean'),\n",
    "                ('NightLight', 'count'),\n",
    "                ('id', 'sum'),\n",
    "                ('id', 'mean'),\n",
    "                ('id', 'count'),\n",
    "                ('Population', 'mean'),\n",
    "                ('Population', 'count'),\n",
    "                ('Area', 'sum'),\n",
    "                ('Area', 'mean'),\n",
    "                ('Area', 'count'),\n",
    "                ('IsUrban', 'sum')]\n",
    "\n",
    "# Drop selected columns\n",
    "HF_hub_stats.drop(droping_cols, axis=1, inplace=True)\n",
    "\n",
    "# Rename columns\n",
    "HF_hub_stats.rename(columns={('ElecPop', 'sum'): 'elecpop_sum',\n",
    "                            ('Population', 'sum'):'pop_sum',\n",
    "                            ('IsUrban', 'mean'):'urban_mean',\n",
    "                            ('IsUrban', 'count'):'no_of_clusters'}, inplace=True)"
   ]
  },
  {
   "cell_type": "markdown",
   "metadata": {},
   "source": [
    "**Note!** This results in a multipoint vector layer; each multipoint contains the location of clusters (centroids) served by the same health facility."
   ]
  },
  {
   "cell_type": "code",
   "execution_count": 21,
   "metadata": {},
   "outputs": [
    {
     "data": {
      "text/html": [
       "<div>\n",
       "<style scoped>\n",
       "    .dataframe tbody tr th:only-of-type {\n",
       "        vertical-align: middle;\n",
       "    }\n",
       "\n",
       "    .dataframe tbody tr th {\n",
       "        vertical-align: top;\n",
       "    }\n",
       "\n",
       "    .dataframe thead th {\n",
       "        text-align: right;\n",
       "    }\n",
       "</style>\n",
       "<table border=\"1\" class=\"dataframe\">\n",
       "  <thead>\n",
       "    <tr style=\"text-align: right;\">\n",
       "      <th></th>\n",
       "      <th>geometry</th>\n",
       "      <th>elecpop_sum</th>\n",
       "      <th>pop_sum</th>\n",
       "      <th>urban_mean</th>\n",
       "      <th>no_of_clusters</th>\n",
       "    </tr>\n",
       "    <tr>\n",
       "      <th>index</th>\n",
       "      <th></th>\n",
       "      <th></th>\n",
       "      <th></th>\n",
       "      <th></th>\n",
       "      <th></th>\n",
       "    </tr>\n",
       "  </thead>\n",
       "  <tbody>\n",
       "    <tr>\n",
       "      <th>1</th>\n",
       "      <td>MULTIPOINT (35.89091 -15.25840, 35.89502 -15.2...</td>\n",
       "      <td>0.000000</td>\n",
       "      <td>21726.060965</td>\n",
       "      <td>0.098446</td>\n",
       "      <td>193</td>\n",
       "    </tr>\n",
       "    <tr>\n",
       "      <th>2</th>\n",
       "      <td>MULTIPOINT (36.01252 -14.83589, 36.01293 -14.8...</td>\n",
       "      <td>854.373463</td>\n",
       "      <td>24984.313618</td>\n",
       "      <td>0.009630</td>\n",
       "      <td>1350</td>\n",
       "    </tr>\n",
       "  </tbody>\n",
       "</table>\n",
       "</div>"
      ],
      "text/plain": [
       "                                                geometry  elecpop_sum  \\\n",
       "index                                                                   \n",
       "1      MULTIPOINT (35.89091 -15.25840, 35.89502 -15.2...     0.000000   \n",
       "2      MULTIPOINT (36.01252 -14.83589, 36.01293 -14.8...   854.373463   \n",
       "\n",
       "            pop_sum  urban_mean  no_of_clusters  \n",
       "index                                            \n",
       "1      21726.060965    0.098446             193  \n",
       "2      24984.313618    0.009630            1350  "
      ]
     },
     "execution_count": 21,
     "metadata": {},
     "output_type": "execute_result"
    }
   ],
   "source": [
    "HF_hub_stats.head(2)"
   ]
  },
  {
   "cell_type": "markdown",
   "metadata": {},
   "source": [
    "#### Merging result with initial health facility layer\n",
    "\n",
    "This is to append the newly retrieved stats in the original health facility dataset"
   ]
  },
  {
   "cell_type": "code",
   "execution_count": 22,
   "metadata": {},
   "outputs": [],
   "source": [
    "HF_hub = health_gdf.merge(HF_hub_stats, on=\"index\")"
   ]
  },
  {
   "cell_type": "markdown",
   "metadata": {},
   "source": [
    "#### Tidy up the resulted dataframe"
   ]
  },
  {
   "cell_type": "code",
   "execution_count": 23,
   "metadata": {},
   "outputs": [],
   "source": [
    "# Select columns to be deleted\n",
    "droping_cols_2 = ['geometry_y']\n",
    "\n",
    "# Drop selected columns\n",
    "HF_hub.drop(droping_cols_2, axis=1, inplace=True)\n",
    "\n",
    "# Rename columns\n",
    "HF_hub.rename(columns={'Facility n': 'fcname',\n",
    "                                      'Facility t': 'fctype',\n",
    "                                      'Long': 'Lon',\n",
    "                                      'geometry_x': \"geometry\"}, inplace=True)"
   ]
  },
  {
   "cell_type": "markdown",
   "metadata": {},
   "source": [
    "The process yields the following dataframe, in which basic stats are calculated per health facility "
   ]
  },
  {
   "cell_type": "code",
   "execution_count": 24,
   "metadata": {},
   "outputs": [
    {
     "data": {
      "text/html": [
       "<div>\n",
       "<style scoped>\n",
       "    .dataframe tbody tr th:only-of-type {\n",
       "        vertical-align: middle;\n",
       "    }\n",
       "\n",
       "    .dataframe tbody tr th {\n",
       "        vertical-align: top;\n",
       "    }\n",
       "\n",
       "    .dataframe thead th {\n",
       "        text-align: right;\n",
       "    }\n",
       "</style>\n",
       "<table border=\"1\" class=\"dataframe\">\n",
       "  <thead>\n",
       "    <tr style=\"text-align: right;\">\n",
       "      <th></th>\n",
       "      <th>Country</th>\n",
       "      <th>Admin1</th>\n",
       "      <th>fcname</th>\n",
       "      <th>fctype</th>\n",
       "      <th>Ownership</th>\n",
       "      <th>Lat</th>\n",
       "      <th>Lon</th>\n",
       "      <th>LL source</th>\n",
       "      <th>geometry</th>\n",
       "      <th>index</th>\n",
       "      <th>elecpop_sum</th>\n",
       "      <th>pop_sum</th>\n",
       "      <th>urban_mean</th>\n",
       "      <th>no_of_clusters</th>\n",
       "    </tr>\n",
       "  </thead>\n",
       "  <tbody>\n",
       "    <tr>\n",
       "      <th>0</th>\n",
       "      <td>Mozambique</td>\n",
       "      <td>Niassa</td>\n",
       "      <td>Candulo Centro de Sa?de Rural II</td>\n",
       "      <td>Centro de Sa?de Rural II</td>\n",
       "      <td>None</td>\n",
       "      <td>-15.2897</td>\n",
       "      <td>35.9478</td>\n",
       "      <td>GPS</td>\n",
       "      <td>POINT (35.94780 -15.28970)</td>\n",
       "      <td>1</td>\n",
       "      <td>0.000000</td>\n",
       "      <td>21726.060965</td>\n",
       "      <td>0.098446</td>\n",
       "      <td>193</td>\n",
       "    </tr>\n",
       "    <tr>\n",
       "      <th>1</th>\n",
       "      <td>Mozambique</td>\n",
       "      <td>Niassa</td>\n",
       "      <td>Caronga Centro de Sa?de Rural II</td>\n",
       "      <td>Centro de Sa?de Rural II</td>\n",
       "      <td>None</td>\n",
       "      <td>-14.9519</td>\n",
       "      <td>36.1639</td>\n",
       "      <td>GPS</td>\n",
       "      <td>POINT (36.16390 -14.95190)</td>\n",
       "      <td>2</td>\n",
       "      <td>854.373463</td>\n",
       "      <td>24984.313618</td>\n",
       "      <td>0.009630</td>\n",
       "      <td>1350</td>\n",
       "    </tr>\n",
       "  </tbody>\n",
       "</table>\n",
       "</div>"
      ],
      "text/plain": [
       "      Country  Admin1                            fcname  \\\n",
       "0  Mozambique  Niassa  Candulo Centro de Sa?de Rural II   \n",
       "1  Mozambique  Niassa  Caronga Centro de Sa?de Rural II   \n",
       "\n",
       "                     fctype Ownership      Lat      Lon LL source  \\\n",
       "0  Centro de Sa?de Rural II      None -15.2897  35.9478       GPS   \n",
       "1  Centro de Sa?de Rural II      None -14.9519  36.1639       GPS   \n",
       "\n",
       "                     geometry  index  elecpop_sum       pop_sum  urban_mean  \\\n",
       "0  POINT (35.94780 -15.28970)      1     0.000000  21726.060965    0.098446   \n",
       "1  POINT (36.16390 -14.95190)      2   854.373463  24984.313618    0.009630   \n",
       "\n",
       "   no_of_clusters  \n",
       "0             193  \n",
       "1            1350  "
      ]
     },
     "execution_count": 24,
     "metadata": {},
     "output_type": "execute_result"
    }
   ],
   "source": [
    "HF_hub.head(2)"
   ]
  },
  {
   "cell_type": "markdown",
   "metadata": {},
   "source": [
    "Convert to a geodataframe (optional)"
   ]
  },
  {
   "cell_type": "code",
   "execution_count": 25,
   "metadata": {},
   "outputs": [],
   "source": [
    "HF_hub_gdf = gpd.GeoDataFrame(HF_hub, geometry='geometry', crs={'init': 'epsg:4326'})"
   ]
  },
  {
   "cell_type": "markdown",
   "metadata": {},
   "source": [
    "### Option 2 -- Stats based on buffer zone"
   ]
  },
  {
   "cell_type": "markdown",
   "metadata": {},
   "source": [
    "#### First we need to project the layers into the proper CRS\n",
    "\n",
    "In this case we use \"epsg:32737\" identified for Mozambique from [epsg.io](https://epsg.io/32737)"
   ]
  },
  {
   "cell_type": "code",
   "execution_count": 26,
   "metadata": {},
   "outputs": [],
   "source": [
    "admin_gdf_prj = admin_gdf.to_crs({'init': 'epsg:32737'})\n",
    "health_gdf_prj = health_gdf.to_crs({'init': 'epsg:32737'})\n",
    "clusters_gdf_prj = clusters_gdf.to_crs({'init': 'epsg:32737'})"
   ]
  },
  {
   "cell_type": "code",
   "execution_count": 27,
   "metadata": {},
   "outputs": [
    {
     "data": {
      "text/html": [
       "<div>\n",
       "<style scoped>\n",
       "    .dataframe tbody tr th:only-of-type {\n",
       "        vertical-align: middle;\n",
       "    }\n",
       "\n",
       "    .dataframe tbody tr th {\n",
       "        vertical-align: top;\n",
       "    }\n",
       "\n",
       "    .dataframe thead th {\n",
       "        text-align: right;\n",
       "    }\n",
       "</style>\n",
       "<table border=\"1\" class=\"dataframe\">\n",
       "  <thead>\n",
       "    <tr style=\"text-align: right;\">\n",
       "      <th></th>\n",
       "      <th>ElecPop</th>\n",
       "      <th>NightLight</th>\n",
       "      <th>id</th>\n",
       "      <th>Country</th>\n",
       "      <th>Population</th>\n",
       "      <th>Area</th>\n",
       "      <th>IsUrban</th>\n",
       "      <th>geometry</th>\n",
       "    </tr>\n",
       "  </thead>\n",
       "  <tbody>\n",
       "    <tr>\n",
       "      <th>0</th>\n",
       "      <td>0.0</td>\n",
       "      <td>0.0</td>\n",
       "      <td>5210</td>\n",
       "      <td>Mozambique</td>\n",
       "      <td>6.240442</td>\n",
       "      <td>0.009</td>\n",
       "      <td>0</td>\n",
       "      <td>POINT (122779.282 8433787.689)</td>\n",
       "    </tr>\n",
       "    <tr>\n",
       "      <th>1</th>\n",
       "      <td>0.0</td>\n",
       "      <td>0.0</td>\n",
       "      <td>5218</td>\n",
       "      <td>Mozambique</td>\n",
       "      <td>124.808842</td>\n",
       "      <td>0.060</td>\n",
       "      <td>0</td>\n",
       "      <td>POINT (128361.721 8434054.996)</td>\n",
       "    </tr>\n",
       "  </tbody>\n",
       "</table>\n",
       "</div>"
      ],
      "text/plain": [
       "   ElecPop  NightLight    id     Country  Population   Area  IsUrban  \\\n",
       "0      0.0         0.0  5210  Mozambique    6.240442  0.009        0   \n",
       "1      0.0         0.0  5218  Mozambique  124.808842  0.060        0   \n",
       "\n",
       "                         geometry  \n",
       "0  POINT (122779.282 8433787.689)  \n",
       "1  POINT (128361.721 8434054.996)  "
      ]
     },
     "execution_count": 27,
     "metadata": {},
     "output_type": "execute_result"
    }
   ],
   "source": [
    "# Drop selected columns\n",
    "clusters_gdf_prj.drop([\"index\"], axis=1, inplace=True)\n",
    "clusters_gdf_prj.head(2)"
   ]
  },
  {
   "cell_type": "markdown",
   "metadata": {},
   "source": [
    "#### ... and we re-generate the cluster centroid layer, only this time using the projected clusters"
   ]
  },
  {
   "cell_type": "code",
   "execution_count": 28,
   "metadata": {},
   "outputs": [],
   "source": [
    "clusters_centroid_proj = gpd.GeoDataFrame(clusters_gdf_prj, geometry=clusters_gdf_prj.centroid)"
   ]
  },
  {
   "cell_type": "markdown",
   "metadata": {},
   "source": [
    "#### Adding a buffer zone to each health facility"
   ]
  },
  {
   "cell_type": "code",
   "execution_count": 29,
   "metadata": {},
   "outputs": [],
   "source": [
    "health_gdf_prj['geometry'] = health_gdf_prj.geometry.buffer(1000)   # im meters"
   ]
  },
  {
   "cell_type": "markdown",
   "metadata": {},
   "source": [
    "#### Apply spatial join"
   ]
  },
  {
   "cell_type": "code",
   "execution_count": 30,
   "metadata": {},
   "outputs": [],
   "source": [
    "#Spatial join\n",
    "health_gdf_prj_joined = gpd.sjoin(clusters_centroid_proj, health_gdf_prj, op='within', how='right')"
   ]
  },
  {
   "cell_type": "code",
   "execution_count": 31,
   "metadata": {},
   "outputs": [
    {
     "data": {
      "text/html": [
       "<div>\n",
       "<style scoped>\n",
       "    .dataframe tbody tr th:only-of-type {\n",
       "        vertical-align: middle;\n",
       "    }\n",
       "\n",
       "    .dataframe tbody tr th {\n",
       "        vertical-align: top;\n",
       "    }\n",
       "\n",
       "    .dataframe thead th {\n",
       "        text-align: right;\n",
       "    }\n",
       "</style>\n",
       "<table border=\"1\" class=\"dataframe\">\n",
       "  <thead>\n",
       "    <tr style=\"text-align: right;\">\n",
       "      <th></th>\n",
       "      <th>index_left</th>\n",
       "      <th>ElecPop</th>\n",
       "      <th>NightLight</th>\n",
       "      <th>id</th>\n",
       "      <th>Country_x</th>\n",
       "      <th>Population</th>\n",
       "      <th>Area</th>\n",
       "      <th>IsUrban</th>\n",
       "      <th>Country_y</th>\n",
       "      <th>Admin1</th>\n",
       "      <th>Facility n</th>\n",
       "      <th>Facility t</th>\n",
       "      <th>Ownership</th>\n",
       "      <th>Lat</th>\n",
       "      <th>Long</th>\n",
       "      <th>LL source</th>\n",
       "      <th>geometry</th>\n",
       "      <th>index</th>\n",
       "    </tr>\n",
       "    <tr>\n",
       "      <th>index_right</th>\n",
       "      <th></th>\n",
       "      <th></th>\n",
       "      <th></th>\n",
       "      <th></th>\n",
       "      <th></th>\n",
       "      <th></th>\n",
       "      <th></th>\n",
       "      <th></th>\n",
       "      <th></th>\n",
       "      <th></th>\n",
       "      <th></th>\n",
       "      <th></th>\n",
       "      <th></th>\n",
       "      <th></th>\n",
       "      <th></th>\n",
       "      <th></th>\n",
       "      <th></th>\n",
       "      <th></th>\n",
       "    </tr>\n",
       "  </thead>\n",
       "  <tbody>\n",
       "    <tr>\n",
       "      <th>0</th>\n",
       "      <td>4367</td>\n",
       "      <td>0.0</td>\n",
       "      <td>0.0</td>\n",
       "      <td>243239</td>\n",
       "      <td>Mozambique</td>\n",
       "      <td>197.320821</td>\n",
       "      <td>0.102</td>\n",
       "      <td>0</td>\n",
       "      <td>Mozambique</td>\n",
       "      <td>Niassa</td>\n",
       "      <td>Candulo Centro de Sa?de Rural II</td>\n",
       "      <td>Centro de Sa?de Rural II</td>\n",
       "      <td>None</td>\n",
       "      <td>-15.2897</td>\n",
       "      <td>35.9478</td>\n",
       "      <td>GPS</td>\n",
       "      <td>POLYGON ((173177.252 8307327.361, 173172.437 8...</td>\n",
       "      <td>1</td>\n",
       "    </tr>\n",
       "    <tr>\n",
       "      <th>0</th>\n",
       "      <td>8041</td>\n",
       "      <td>0.0</td>\n",
       "      <td>0.0</td>\n",
       "      <td>396096</td>\n",
       "      <td>Mozambique</td>\n",
       "      <td>1464.328201</td>\n",
       "      <td>0.682</td>\n",
       "      <td>1</td>\n",
       "      <td>Mozambique</td>\n",
       "      <td>Niassa</td>\n",
       "      <td>Candulo Centro de Sa?de Rural II</td>\n",
       "      <td>Centro de Sa?de Rural II</td>\n",
       "      <td>None</td>\n",
       "      <td>-15.2897</td>\n",
       "      <td>35.9478</td>\n",
       "      <td>GPS</td>\n",
       "      <td>POLYGON ((173177.252 8307327.361, 173172.437 8...</td>\n",
       "      <td>1</td>\n",
       "    </tr>\n",
       "  </tbody>\n",
       "</table>\n",
       "</div>"
      ],
      "text/plain": [
       "             index_left  ElecPop  NightLight      id   Country_x   Population  \\\n",
       "index_right                                                                     \n",
       "0                  4367      0.0         0.0  243239  Mozambique   197.320821   \n",
       "0                  8041      0.0         0.0  396096  Mozambique  1464.328201   \n",
       "\n",
       "              Area  IsUrban   Country_y  Admin1  \\\n",
       "index_right                                       \n",
       "0            0.102        0  Mozambique  Niassa   \n",
       "0            0.682        1  Mozambique  Niassa   \n",
       "\n",
       "                                   Facility n                Facility t  \\\n",
       "index_right                                                               \n",
       "0            Candulo Centro de Sa?de Rural II  Centro de Sa?de Rural II   \n",
       "0            Candulo Centro de Sa?de Rural II  Centro de Sa?de Rural II   \n",
       "\n",
       "            Ownership      Lat     Long LL source  \\\n",
       "index_right                                         \n",
       "0                None -15.2897  35.9478       GPS   \n",
       "0                None -15.2897  35.9478       GPS   \n",
       "\n",
       "                                                      geometry  index  \n",
       "index_right                                                            \n",
       "0            POLYGON ((173177.252 8307327.361, 173172.437 8...      1  \n",
       "0            POLYGON ((173177.252 8307327.361, 173172.437 8...      1  "
      ]
     },
     "execution_count": 31,
     "metadata": {},
     "output_type": "execute_result"
    }
   ],
   "source": [
    "health_gdf_prj_joined.head(2)"
   ]
  },
  {
   "cell_type": "markdown",
   "metadata": {},
   "source": [
    "#### Group features based on index"
   ]
  },
  {
   "cell_type": "code",
   "execution_count": 32,
   "metadata": {},
   "outputs": [
    {
     "name": "stderr",
     "output_type": "stream",
     "text": [
      "C:\\Users\\alexl\\anaconda3\\envs\\agrodem_full\\lib\\site-packages\\pandas\\core\\reshape\\merge.py:643: UserWarning: merging between different levels can give an unintended result (1 levels on the left,2 on the right)\n",
      "  warnings.warn(msg, UserWarning)\n"
     ]
    }
   ],
   "source": [
    "# Basic statistics to calculate\n",
    "stat_list = ['sum', 'mean', 'count']\n",
    "\n",
    "# Apply groupby function\n",
    "HF_buf_stats = health_gdf_prj_joined.dissolve(by='index', aggfunc=stat_list)\n",
    "\n",
    "# Check for dublicates (optional)\n",
    "#groupby_gdf_dublic = groupby_gdf[groupby_gdf.duplicated(['geometry'], keep=False)]"
   ]
  },
  {
   "cell_type": "code",
   "execution_count": 33,
   "metadata": {},
   "outputs": [
    {
     "data": {
      "text/html": [
       "<div>\n",
       "<style scoped>\n",
       "    .dataframe tbody tr th:only-of-type {\n",
       "        vertical-align: middle;\n",
       "    }\n",
       "\n",
       "    .dataframe tbody tr th {\n",
       "        vertical-align: top;\n",
       "    }\n",
       "\n",
       "    .dataframe thead th {\n",
       "        text-align: right;\n",
       "    }\n",
       "</style>\n",
       "<table border=\"1\" class=\"dataframe\">\n",
       "  <thead>\n",
       "    <tr style=\"text-align: right;\">\n",
       "      <th></th>\n",
       "      <th>geometry</th>\n",
       "      <th>(index_left, sum)</th>\n",
       "      <th>(index_left, mean)</th>\n",
       "      <th>(index_left, count)</th>\n",
       "      <th>(ElecPop, sum)</th>\n",
       "      <th>(ElecPop, mean)</th>\n",
       "      <th>(ElecPop, count)</th>\n",
       "      <th>(NightLight, sum)</th>\n",
       "      <th>(NightLight, mean)</th>\n",
       "      <th>(NightLight, count)</th>\n",
       "      <th>...</th>\n",
       "      <th>(Area, count)</th>\n",
       "      <th>(IsUrban, sum)</th>\n",
       "      <th>(IsUrban, mean)</th>\n",
       "      <th>(IsUrban, count)</th>\n",
       "      <th>(Lat, sum)</th>\n",
       "      <th>(Lat, mean)</th>\n",
       "      <th>(Lat, count)</th>\n",
       "      <th>(Long, sum)</th>\n",
       "      <th>(Long, mean)</th>\n",
       "      <th>(Long, count)</th>\n",
       "    </tr>\n",
       "    <tr>\n",
       "      <th>index</th>\n",
       "      <th></th>\n",
       "      <th></th>\n",
       "      <th></th>\n",
       "      <th></th>\n",
       "      <th></th>\n",
       "      <th></th>\n",
       "      <th></th>\n",
       "      <th></th>\n",
       "      <th></th>\n",
       "      <th></th>\n",
       "      <th></th>\n",
       "      <th></th>\n",
       "      <th></th>\n",
       "      <th></th>\n",
       "      <th></th>\n",
       "      <th></th>\n",
       "      <th></th>\n",
       "      <th></th>\n",
       "      <th></th>\n",
       "      <th></th>\n",
       "      <th></th>\n",
       "    </tr>\n",
       "  </thead>\n",
       "  <tbody>\n",
       "    <tr>\n",
       "      <th>1</th>\n",
       "      <td>POLYGON ((173177.252 8307327.361, 173172.437 8...</td>\n",
       "      <td>21523</td>\n",
       "      <td>5380.750000</td>\n",
       "      <td>4</td>\n",
       "      <td>0.000000</td>\n",
       "      <td>0.000000</td>\n",
       "      <td>4</td>\n",
       "      <td>0.000000</td>\n",
       "      <td>0.000000</td>\n",
       "      <td>4</td>\n",
       "      <td>...</td>\n",
       "      <td>4</td>\n",
       "      <td>1</td>\n",
       "      <td>0.250000</td>\n",
       "      <td>4</td>\n",
       "      <td>-61.1588</td>\n",
       "      <td>-15.2897</td>\n",
       "      <td>4</td>\n",
       "      <td>143.7912</td>\n",
       "      <td>35.9478</td>\n",
       "      <td>4</td>\n",
       "    </tr>\n",
       "    <tr>\n",
       "      <th>2</th>\n",
       "      <td>POLYGON ((195921.279 8345044.798, 195916.463 8...</td>\n",
       "      <td>29636</td>\n",
       "      <td>9878.666667</td>\n",
       "      <td>3</td>\n",
       "      <td>699.424119</td>\n",
       "      <td>233.141373</td>\n",
       "      <td>3</td>\n",
       "      <td>0.629362</td>\n",
       "      <td>0.209787</td>\n",
       "      <td>3</td>\n",
       "      <td>...</td>\n",
       "      <td>3</td>\n",
       "      <td>1</td>\n",
       "      <td>0.333333</td>\n",
       "      <td>3</td>\n",
       "      <td>-44.8557</td>\n",
       "      <td>-14.9519</td>\n",
       "      <td>3</td>\n",
       "      <td>108.4917</td>\n",
       "      <td>36.1639</td>\n",
       "      <td>3</td>\n",
       "    </tr>\n",
       "  </tbody>\n",
       "</table>\n",
       "<p>2 rows × 28 columns</p>\n",
       "</div>"
      ],
      "text/plain": [
       "                                                geometry  (index_left, sum)  \\\n",
       "index                                                                         \n",
       "1      POLYGON ((173177.252 8307327.361, 173172.437 8...              21523   \n",
       "2      POLYGON ((195921.279 8345044.798, 195916.463 8...              29636   \n",
       "\n",
       "       (index_left, mean)  (index_left, count)  (ElecPop, sum)  \\\n",
       "index                                                            \n",
       "1             5380.750000                    4        0.000000   \n",
       "2             9878.666667                    3      699.424119   \n",
       "\n",
       "       (ElecPop, mean)  (ElecPop, count)  (NightLight, sum)  \\\n",
       "index                                                         \n",
       "1             0.000000                 4           0.000000   \n",
       "2           233.141373                 3           0.629362   \n",
       "\n",
       "       (NightLight, mean)  (NightLight, count)  ...  (Area, count)  \\\n",
       "index                                           ...                  \n",
       "1                0.000000                    4  ...              4   \n",
       "2                0.209787                    3  ...              3   \n",
       "\n",
       "       (IsUrban, sum)  (IsUrban, mean)  (IsUrban, count)  (Lat, sum)  \\\n",
       "index                                                                  \n",
       "1                   1         0.250000                 4    -61.1588   \n",
       "2                   1         0.333333                 3    -44.8557   \n",
       "\n",
       "       (Lat, mean)  (Lat, count)  (Long, sum)  (Long, mean)  (Long, count)  \n",
       "index                                                                       \n",
       "1         -15.2897             4     143.7912       35.9478              4  \n",
       "2         -14.9519             3     108.4917       36.1639              3  \n",
       "\n",
       "[2 rows x 28 columns]"
      ]
     },
     "execution_count": 33,
     "metadata": {},
     "output_type": "execute_result"
    }
   ],
   "source": [
    "HF_buf_stats.head(2)"
   ]
  },
  {
   "cell_type": "markdown",
   "metadata": {},
   "source": [
    "#### Tidy up output"
   ]
  },
  {
   "cell_type": "code",
   "execution_count": 34,
   "metadata": {},
   "outputs": [
    {
     "data": {
      "text/plain": [
       "Index([             'geometry',   ('index_left', 'sum'),\n",
       "        ('index_left', 'mean'), ('index_left', 'count'),\n",
       "            ('ElecPop', 'sum'),     ('ElecPop', 'mean'),\n",
       "          ('ElecPop', 'count'),   ('NightLight', 'sum'),\n",
       "        ('NightLight', 'mean'), ('NightLight', 'count'),\n",
       "                 ('id', 'sum'),          ('id', 'mean'),\n",
       "               ('id', 'count'),   ('Population', 'sum'),\n",
       "        ('Population', 'mean'), ('Population', 'count'),\n",
       "               ('Area', 'sum'),        ('Area', 'mean'),\n",
       "             ('Area', 'count'),      ('IsUrban', 'sum'),\n",
       "           ('IsUrban', 'mean'),    ('IsUrban', 'count'),\n",
       "                ('Lat', 'sum'),         ('Lat', 'mean'),\n",
       "              ('Lat', 'count'),         ('Long', 'sum'),\n",
       "              ('Long', 'mean'),       ('Long', 'count')],\n",
       "      dtype='object')"
      ]
     },
     "execution_count": 34,
     "metadata": {},
     "output_type": "execute_result"
    }
   ],
   "source": [
    "HF_buf_stats.columns"
   ]
  },
  {
   "cell_type": "code",
   "execution_count": 35,
   "metadata": {},
   "outputs": [],
   "source": [
    "# Select columns to be deleted\n",
    "droping_cols = [ ('index_left', 'sum'),\n",
    "                ('index_left', 'mean'), \n",
    "                ('index_left', 'count'),\n",
    "                ('ElecPop', 'mean'),\n",
    "                ('ElecPop', 'count'),\n",
    "                ('NightLight', 'sum'),\n",
    "                ('NightLight', 'mean'),\n",
    "                ('NightLight', 'count'),\n",
    "                ('id', 'sum'),\n",
    "                ('id', 'mean'),\n",
    "                ('id', 'count'),\n",
    "                ('Population', 'mean'),\n",
    "                ('Population', 'count'),\n",
    "                ('Area', 'sum'),\n",
    "                ('Area', 'mean'),\n",
    "                ('Area', 'count'),\n",
    "                ('IsUrban', 'sum'),\n",
    "                ('Lat', 'sum'),\n",
    "                ('Lat', 'count'),\n",
    "                ('Long', 'sum'),\n",
    "                ('Long', 'count')]\n",
    "\n",
    "# Drop selected columns\n",
    "HF_buf_stats.drop(droping_cols, axis=1, inplace=True)\n",
    "\n",
    "# Rename columns\n",
    "HF_buf_stats.rename(columns={('ElecPop', 'sum'): 'elecpop_sum',\n",
    "                            ('Population', 'sum'):'pop_sum',\n",
    "                            ('IsUrban', 'mean'):'urban_mean',\n",
    "                            ('IsUrban', 'count'):'no_of_clusters',\n",
    "                            ('Lat', 'mean'):'Lat',\n",
    "                            ('Long', 'mean'):'Lon'}, inplace=True)"
   ]
  },
  {
   "cell_type": "markdown",
   "metadata": {},
   "source": [
    "The process yield the following dataframe, in which basic stats are calculated per health facility"
   ]
  },
  {
   "cell_type": "code",
   "execution_count": 36,
   "metadata": {},
   "outputs": [
    {
     "data": {
      "text/html": [
       "<div>\n",
       "<style scoped>\n",
       "    .dataframe tbody tr th:only-of-type {\n",
       "        vertical-align: middle;\n",
       "    }\n",
       "\n",
       "    .dataframe tbody tr th {\n",
       "        vertical-align: top;\n",
       "    }\n",
       "\n",
       "    .dataframe thead th {\n",
       "        text-align: right;\n",
       "    }\n",
       "</style>\n",
       "<table border=\"1\" class=\"dataframe\">\n",
       "  <thead>\n",
       "    <tr style=\"text-align: right;\">\n",
       "      <th></th>\n",
       "      <th>geometry</th>\n",
       "      <th>elecpop_sum</th>\n",
       "      <th>pop_sum</th>\n",
       "      <th>urban_mean</th>\n",
       "      <th>no_of_clusters</th>\n",
       "      <th>Lat</th>\n",
       "      <th>Lon</th>\n",
       "    </tr>\n",
       "    <tr>\n",
       "      <th>index</th>\n",
       "      <th></th>\n",
       "      <th></th>\n",
       "      <th></th>\n",
       "      <th></th>\n",
       "      <th></th>\n",
       "      <th></th>\n",
       "      <th></th>\n",
       "    </tr>\n",
       "  </thead>\n",
       "  <tbody>\n",
       "    <tr>\n",
       "      <th>1</th>\n",
       "      <td>POLYGON ((173177.252 8307327.361, 173172.437 8...</td>\n",
       "      <td>0.000000</td>\n",
       "      <td>1677.226982</td>\n",
       "      <td>0.250000</td>\n",
       "      <td>4</td>\n",
       "      <td>-15.2897</td>\n",
       "      <td>35.9478</td>\n",
       "    </tr>\n",
       "    <tr>\n",
       "      <th>2</th>\n",
       "      <td>POLYGON ((195921.279 8345044.798, 195916.463 8...</td>\n",
       "      <td>699.424119</td>\n",
       "      <td>787.419939</td>\n",
       "      <td>0.333333</td>\n",
       "      <td>3</td>\n",
       "      <td>-14.9519</td>\n",
       "      <td>36.1639</td>\n",
       "    </tr>\n",
       "  </tbody>\n",
       "</table>\n",
       "</div>"
      ],
      "text/plain": [
       "                                                geometry  elecpop_sum  \\\n",
       "index                                                                   \n",
       "1      POLYGON ((173177.252 8307327.361, 173172.437 8...     0.000000   \n",
       "2      POLYGON ((195921.279 8345044.798, 195916.463 8...   699.424119   \n",
       "\n",
       "           pop_sum  urban_mean  no_of_clusters      Lat      Lon  \n",
       "index                                                             \n",
       "1      1677.226982    0.250000               4 -15.2897  35.9478  \n",
       "2       787.419939    0.333333               3 -14.9519  36.1639  "
      ]
     },
     "execution_count": 36,
     "metadata": {},
     "output_type": "execute_result"
    }
   ],
   "source": [
    "HF_buf_stats.head(2)"
   ]
  },
  {
   "cell_type": "markdown",
   "metadata": {},
   "source": [
    "#### Merge with initial health facilities dataset"
   ]
  },
  {
   "cell_type": "code",
   "execution_count": 37,
   "metadata": {},
   "outputs": [],
   "source": [
    "HF_buf = health_gdf_prj.merge(HF_buf_stats, on=\"index\")"
   ]
  },
  {
   "cell_type": "code",
   "execution_count": 38,
   "metadata": {},
   "outputs": [
    {
     "data": {
      "text/plain": [
       "Index(['Country', 'Admin1', 'Facility n', 'Facility t', 'Ownership', 'Lat_x',\n",
       "       'Long', 'LL source', 'geometry_x', 'index', 'geometry_y', 'elecpop_sum',\n",
       "       'pop_sum', 'urban_mean', 'no_of_clusters', 'Lat_y', 'Lon'],\n",
       "      dtype='object')"
      ]
     },
     "execution_count": 38,
     "metadata": {},
     "output_type": "execute_result"
    }
   ],
   "source": [
    "HF_buf.columns"
   ]
  },
  {
   "cell_type": "markdown",
   "metadata": {},
   "source": [
    "#### Cleaning output"
   ]
  },
  {
   "cell_type": "code",
   "execution_count": 39,
   "metadata": {},
   "outputs": [],
   "source": [
    "# Select columns to be deleted\n",
    "droping_cols_2 = [ 'Long', 'geometry_y', 'Lat_y', 'geometry_x']\n",
    "\n",
    "# Drop selected columns\n",
    "HF_buf.drop(droping_cols_2, axis=1, inplace=True)\n",
    "\n",
    "# Rename columns\n",
    "HF_buf.rename(columns={'Facility t': 'fctype',\n",
    "                       'Facility n': 'fcname',\n",
    "                       'Lat_x': 'Lat'}, inplace=True)"
   ]
  },
  {
   "cell_type": "markdown",
   "metadata": {},
   "source": [
    "#### Convert result to geodataframe in original CRS"
   ]
  },
  {
   "cell_type": "code",
   "execution_count": 40,
   "metadata": {},
   "outputs": [],
   "source": [
    "## Creating a geo-dataframe - appointing geometry attribute\n",
    "HF_buf['geometry'] = list(zip(HF_buf['Lon'], HF_buf['Lat']))\n",
    "HF_buf['geometry'] = HF_buf['geometry'].apply(Point)\n",
    "HF_buf_gdf = gpd.GeoDataFrame(HF_buf, geometry='geometry', crs={'init': 'epsg:4326'})"
   ]
  },
  {
   "cell_type": "markdown",
   "metadata": {},
   "source": [
    "---------------------------------------------------------------------------------------------\n",
    "\n",
    "## Descriptive analysis\n",
    "\n",
    "Regardless of the selected method (**Option 1** or **Option 2**) the resulted geodataframe is of similar format. Next, we want to run a descriptive analysis over the result in order to get an idea of the type of data and potential classification techniques. "
   ]
  },
  {
   "cell_type": "markdown",
   "metadata": {},
   "source": [
    "#### Result of **Option 1**"
   ]
  },
  {
   "cell_type": "code",
   "execution_count": 41,
   "metadata": {},
   "outputs": [
    {
     "data": {
      "text/plain": [
       "count       19.000000\n",
       "mean     26882.061818\n",
       "std      10771.348988\n",
       "min       5685.042735\n",
       "25%      21419.189453\n",
       "50%      25469.963919\n",
       "75%      30545.254864\n",
       "max      59730.107002\n",
       "Name: pop_sum, dtype: float64"
      ]
     },
     "execution_count": 41,
     "metadata": {},
     "output_type": "execute_result"
    }
   ],
   "source": [
    "HF_hub_gdf.pop_sum.describe()"
   ]
  },
  {
   "cell_type": "code",
   "execution_count": 42,
   "metadata": {},
   "outputs": [
    {
     "data": {
      "image/png": "[encoded data removed]",
      "text/plain": [
       "<Figure size 1008x432 with 1 Axes>"
      ]
     },
     "metadata": {
      "needs_background": "light"
     },
     "output_type": "display_data"
    }
   ],
   "source": [
    "bin_values = np.arange(start=0, stop=HF_hub_gdf.pop_sum.sum())\n",
    "\n",
    "HF_hub_gdf['pop_sum'].hist(figsize=[14,6])\n",
    "plt.title(\"Population served by each health facility\")\n",
    "\n",
    "plt.show()"
   ]
  },
  {
   "cell_type": "code",
   "execution_count": 43,
   "metadata": {},
   "outputs": [],
   "source": [
    "# remove inconsistencies hospital type names    \n",
    "HF_hub_gdf[\"fctype\"].replace(\"\\?\", 'u', regex=True, inplace=True)\n",
    "\n",
    "# remove inconsistencies hospital type names    \n",
    "HF_hub_gdf[\"fcname\"].replace(\"\\?\", 'u',regex=True, inplace=True)"
   ]
  },
  {
   "cell_type": "code",
   "execution_count": 44,
   "metadata": {},
   "outputs": [
    {
     "name": "stdout",
     "output_type": "stream",
     "text": [
      "\n",
      "This administrative area has 2 different types of hospitals:\n",
      "\n",
      "Centro de Saude Rural II\n",
      "Centro de Saude Rural I\n"
     ]
    }
   ],
   "source": [
    "ls_of_hf = HF_hub_gdf.fctype.unique()\n",
    "print('\\nThis administrative area has {} different types of hospitals:\\n'.format(len(ls_of_hf)))\n",
    "print(*ls_of_hf, sep = '\\n')"
   ]
  },
  {
   "cell_type": "markdown",
   "metadata": {},
   "source": [
    "#### Result of **Option 2**"
   ]
  },
  {
   "cell_type": "code",
   "execution_count": 45,
   "metadata": {},
   "outputs": [
    {
     "data": {
      "text/plain": [
       "count       19.000000\n",
       "mean      4121.879924\n",
       "std       6517.540750\n",
       "min        253.035754\n",
       "25%        819.507531\n",
       "50%        991.796760\n",
       "75%       2666.860946\n",
       "max      20250.234550\n",
       "Name: pop_sum, dtype: float64"
      ]
     },
     "execution_count": 45,
     "metadata": {},
     "output_type": "execute_result"
    }
   ],
   "source": [
    "HF_buf_gdf.pop_sum.describe()"
   ]
  },
  {
   "cell_type": "code",
   "execution_count": 46,
   "metadata": {},
   "outputs": [
    {
     "data": {
      "image/png": "[encoded data removed]",
      "text/plain": [
       "<Figure size 1008x432 with 1 Axes>"
      ]
     },
     "metadata": {
      "needs_background": "light"
     },
     "output_type": "display_data"
    }
   ],
   "source": [
    "bin_values = np.arange(start=0, stop=HF_buf_gdf.pop_sum.sum())\n",
    "\n",
    "HF_buf_gdf['pop_sum'].hist(figsize=[14,6])\n",
    "plt.title(\"Population served by each health facility\")\n",
    "\n",
    "plt.show()"
   ]
  },
  {
   "cell_type": "code",
   "execution_count": 47,
   "metadata": {},
   "outputs": [],
   "source": [
    "# remove inconsistencies hospital type names    \n",
    "HF_buf_gdf[\"fctype\"].replace(\"\\?\", 'u', regex=True, inplace=True)\n",
    "\n",
    "# remove inconsistencies hospital type names    \n",
    "HF_buf_gdf[\"fcname\"].replace(\"\\?\", 'u',regex=True, inplace=True)"
   ]
  },
  {
   "cell_type": "code",
   "execution_count": 48,
   "metadata": {},
   "outputs": [
    {
     "name": "stdout",
     "output_type": "stream",
     "text": [
      "\n",
      "This administrative area has 2 different types of hospitals:\n",
      "\n",
      "Centro de Saude Rural II\n",
      "Centro de Saude Rural I\n"
     ]
    }
   ],
   "source": [
    "ls_of_hf = HF_buf_gdf.fctype.unique()\n",
    "print('\\nThis administrative area has {} different types of hospitals:\\n'.format(len(ls_of_hf)))\n",
    "print(*ls_of_hf, sep = '\\n')"
   ]
  },
  {
   "cell_type": "markdown",
   "metadata": {},
   "source": [
    "## Step 3. Characterizing HF & Predicting electricity requirements\n",
    "\n",
    "You may select any of the above approaches to proceed."
   ]
  },
  {
   "cell_type": "code",
   "execution_count": 49,
   "metadata": {},
   "outputs": [],
   "source": [
    "HF = HF_hub_gdf      # you may change the input gdf here"
   ]
  },
  {
   "cell_type": "code",
   "execution_count": 50,
   "metadata": {},
   "outputs": [],
   "source": [
    "# Initialize a Health Facility Category column\n",
    "HF['HF_Cat'] = 0"
   ]
  },
  {
   "cell_type": "markdown",
   "metadata": {},
   "source": [
    "## Classification of health facilities\n",
    "\n",
    "The classification process presented below is based on the idea that health facilities are grouped into four main categories namely:\n",
    "\n",
    " - **Type 4:** District/Referral Hospital (> 145 beds)\n",
    " - **Type 3:** Rural Hospital (~55 beds)\n",
    " - **Type 2:** Small Impatient Clinic (~14 beds)\n",
    " - **Type 1:** Rural Dispensary - No Inpatient (~4 emergency beds)\n",
    " \n",
    "This categorization is consistent with what literature suggests (see for example [Franco et al.](https://www.sciencedirect.com/science/article/pii/S2213138817301376)). It has also been adopted and used in the [HOMER Powering Health Tool](https://poweringhealth.homerenergy.com/).\n",
    "\n",
    "In this example, we use three values to classify the health facilities accordingly. These include:\n",
    "\n",
    "1. **\"urban_mean\"**: This is the average urban status {urban:1 or rural:0} for all clusters connected with each health facility. Value > than 0.5 indicates that health facility serves a more urban settlements and thus is more likely to be of higher type.\n",
    "\n",
    "2. **\"pop_sum\"**: This is the sum of the population in all clusters connected with each health facility (or else a theoretical \"outpatient capacity\" for each health facility. Higher potentially served population is likely to indicate higher type.\n",
    "\n",
    "3. **\"elecpop_sum\"**: This is the sum of electrified population in all clusters connected with each health facility. This indicates - to some extent -  the electrification status on the vicinity thus can potentially be connected with the type of health facility. \n",
    "\n",
    "In the absence of more elaborate (e.g.  survey) data, cross-validation of this approach is very difficult at the moment. Therefore, this part of the methodology is open to user input. The idea is that the modeler can work in close collaboration with local stakeholders in order to calibrate the process or add predictors if more information become available.  \n",
    "\n",
    "\n",
    ">**Note!** In our example, health facilities do contain some attributes such as for example their type (e.g. Centro de Saude Rural i or II). This - or any similar characteristics - can be used if available and help estimate electricity requirements. Nevertheless, in the following step we only work with the retrieved population cluster data stats, so that the methodology is universally reproducible."
   ]
  },
  {
   "cell_type": "code",
   "execution_count": 51,
   "metadata": {},
   "outputs": [],
   "source": [
    "# District/Referral hospital with more than 145 beds\n",
    "HF.loc[(HF['urban_mean'] >= 0.5) &\n",
    "       (HF['pop_sum'] >= 20000) &\n",
    "       (HF['elecpop_sum'] >= 0), 'HF_Cat'] = 4\n",
    "\n",
    "# Rural hospital - 50 beds\n",
    "HF.loc[(HF['urban_mean'] <= 0.5) &\n",
    "       (HF['pop_sum'] >= 20000) &\n",
    "       (HF['elecpop_sum'] >= 0), 'HF_Cat'] = 3\n",
    "\n",
    "# Small impatient clinic - 14 beds\n",
    "HF.loc[(HF['urban_mean'] <= 0.5) &\n",
    "       (HF['pop_sum'] < 20000) &\n",
    "       (HF['elecpop_sum'] > 0), 'HF_Cat'] = 2\n",
    "\n",
    "# Rural dispensary - no inpatient - 4 emergency beds\n",
    "HF.loc[(HF['urban_mean'] <= 0.5) &\n",
    "       (HF['pop_sum'] < 20000) &\n",
    "       (HF['elecpop_sum'] == 0), 'HF_Cat'] = 1"
   ]
  },
  {
   "cell_type": "markdown",
   "metadata": {},
   "source": [
    "#### Plotting result of categorization"
   ]
  },
  {
   "cell_type": "code",
   "execution_count": 52,
   "metadata": {},
   "outputs": [
    {
     "data": {
      "text/plain": [
       "Text(0.5, 1.0, 'Categorization of Health facilities in the selected admin area')"
      ]
     },
     "execution_count": 52,
     "metadata": {},
     "output_type": "execute_result"
    },
    {
     "data": {
      "image/png": "[encoded data removed]",
      "text/plain": [
       "<Figure size 864x504 with 1 Axes>"
      ]
     },
     "metadata": {
      "needs_background": "light"
     },
     "output_type": "display_data"
    }
   ],
   "source": [
    "ax = HF['HF_Cat'].value_counts().plot(kind='bar',figsize=[12,7])\n",
    "ax.yaxis.set_major_locator(MaxNLocator(integer=True))\n",
    "plt.title(\"Categorization of Health facilities in the selected admin area\")"
   ]
  },
  {
   "cell_type": "markdown",
   "metadata": {},
   "source": [
    "## Assign electricity requirements based on Category type\n",
    "\n",
    "Similar to classification (see above) estimating electricity requirement per health facility is not an easy task considering the lack of quantitative, ground data. In this example, we use the [HOMER Powering Health Tool](https://poweringhealth.homerenergy.com/) interface to quantify potential electricity requirement (kWh/year) per type of health facility. The modeler can select the appropriate equipment and customize electricity targets accordingly. "
   ]
  },
  {
   "cell_type": "code",
   "execution_count": 53,
   "metadata": {},
   "outputs": [],
   "source": [
    "# Rural dispensary - no inpatient - 4 emergency beds\n",
    "HF.loc[(HF['HF_Cat'] == 1), 'HF_kWh'] = 5.7*365\n",
    "\n",
    "HF.loc[(HF['HF_Cat'] == 2), 'HF_kWh'] = 13.9*365                           \n",
    "                           \n",
    "HF.loc[(HF['HF_Cat'] == 3), 'HF_kWh'] = 37*365                           \n",
    "\n",
    "HF.loc[(HF['HF_Cat'] == 4), 'HF_kWh'] = 361.1*365"
   ]
  },
  {
   "cell_type": "code",
   "execution_count": 54,
   "metadata": {},
   "outputs": [
    {
     "name": "stdout",
     "output_type": "stream",
     "text": [
      "\n",
      "\u001b[1mNote!\u001b[0m\n",
      "\n",
      "The estimated electricity demand for HF in the selected area, based on the above categorization, is ~225314.5 kWh/year \n",
      "\n"
     ]
    }
   ],
   "source": [
    "print ('\\n\\033[1mNote!\\033[0m\\n\\nThe estimated electricity demand for HF in the selected area, based on the above categorization, is ~{:.1f} kWh/year \\n'.\n",
    "       format(HF.HF_kWh.sum()))"
   ]
  },
  {
   "cell_type": "markdown",
   "metadata": {},
   "source": [
    "# Print location of HF with estimated demand on a map "
   ]
  },
  {
   "cell_type": "code",
   "execution_count": 85,
   "metadata": {},
   "outputs": [
    {
     "data": {
      "text/markdown": [
       "<a href=\"maps/map_Health_Facilities_Mecanhelas.html\" target=\"_blank\">Click here to render the map of electrification of health facilities </a>"
      ],
      "text/plain": [
       "<IPython.core.display.Markdown object>"
      ]
     },
     "metadata": {},
     "output_type": "display_data"
    },
    {
     "name": "stdout",
     "output_type": "stream",
     "text": [
      "Publishing report and associated data - please wait..\n",
      "Report successfully published at https://datapane.com/alexandros/reports/HF_elec_demand_Mecanhelas/\n"
     ]
    },
    {
     "data": {
      "text/html": [
       "<div style=\"width:100%;\"><div style=\"position:relative;width:100%;height:0;padding-bottom:60%;\"><iframe src=\"data:text/html;charset=utf-8;base64,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\" style=\"position:absolute;width:100%;height:100%;left:0;top:0;border:none !important;\" allowfullscreen webkitallowfullscreen mozallowfullscreen></iframe></div></div>"
      ],
      "text/plain": [
       "<folium.folium.Map at 0x25171cc0dd8>"
      ]
     },
     "execution_count": 85,
     "metadata": {},
     "output_type": "execute_result"
    }
   ],
   "source": [
    "# Vizualize result on an interactive map exported as html \n",
    "\n",
    "#Define limits for map rendering\n",
    "x_ave = HF[\"Lon\"].mean()\n",
    "y_ave = HF[\"Lat\"].mean()\n",
    "\n",
    "# Create the map using folium module\n",
    "map_dem = folium.Map(location=[y_ave,x_ave], zoom_start=6, control_scale=True)\n",
    "\n",
    "# Definition of a function that returns different color names based on lcoe result categorization\n",
    "# Colors are in Hexa-code e.g. #RRGGBB\n",
    "def colorvalue(x):\n",
    "    if x <= 0.5:\n",
    "        return \"#ADFF2F\"\n",
    "    elif x >= 1 and x < 5000:\n",
    "        return \"#32CD32\"\n",
    "    elif x >= 5000 and x < 10000:\n",
    "        return \"#228B22\"\n",
    "    elif x >= 10000 and x < 15000:\n",
    "        return \"#008000\"\n",
    "    elif x >= 15000 and x < 20000:\n",
    "        return \"#006400\"\n",
    "    else:\n",
    "        return \"#000000\" \n",
    "\n",
    "# Then we create a marker for each cluster; \n",
    "# We pass coordinates, lcoe value and size as attributes to appear on the rendered map\n",
    "for index, row in HF.iterrows():\n",
    "    el_demand = row[\"HF_kWh\"]\n",
    "    color_code = colorvalue(el_demand)\n",
    "    folium.CircleMarker([row[\"Lat\"], row[\"Lon\"]],\n",
    "                        radius=2,\n",
    "                        color=color_code,\n",
    "                        popup=\"<b>Name:</b> {}, <br> <br> <b>Type:</b> {}, <br> <br> <b>Demand:</b> {} kWh/year, <br> <br> <b>\".format(row[\"fcname\"], row[\"fctype\"], row[\"HF_kWh\"]),\n",
    "                        fill = True,\n",
    "                        fill_opacity=0).add_to(map_dem)\n",
    "\n",
    "# We define the limits of the legend and fix its printout format\n",
    "# We use branca module to create a colormap legend and then add legend to the map\n",
    "min_dem = HF[\"HF_kWh\"].min()\n",
    "max_dem = HF[\"HF_kWh\"].max()\n",
    "min_dem = float(\"{0:.2f}\".format(min_dem))\n",
    "max_dem = float(\"{0:.2f}\".format(max_dem))\n",
    "legend = cm.LinearColormap(['#ADFF2F','#32CD32','#228B22','#008000','#006400','#000000'], \n",
    "                           index=None, vmin=min_dem, vmax=max_dem)\n",
    "legend.add_to(map_dem)  \n",
    "\n",
    "expl_text = '#ADFF2F:1, #32CD32:2, #228B22:3, #008000:4, #006400:5'\n",
    "iframe = folium.IFrame(expl_text, width=700, height=450)\n",
    "popup = folium.Popup(iframe, max_width=3000)\n",
    "\n",
    "Text = folium.Marker(location=[x_ave,y_ave], popup=popup,\n",
    "                     icon=folium.Icon(icon_color='green'))\n",
    "map_dem.add_child(Text)\n",
    "\n",
    "# Create a new directory where the map(s) can be saved\n",
    "try:\n",
    "    os.makedirs('maps')\n",
    "except FileExistsError:\n",
    "    pass\n",
    "\n",
    "map_dem_output = 'maps/map_{}_{}.html'.format(\"Health_Facilities\", \"Mecanhelas\")\n",
    "map_dem.save(map_dem_output)\n",
    "\n",
    "# Finally add the link that leads to the final map output\n",
    "display(Markdown('<a href=\"{}\" target=\"_blank\">Click here to render the map of electrification of health facilities </a>'.format(map_dem_output)))\n",
    "\n",
    "# Publish map on datapane for easier rendering in websites\n",
    "dp.Report(dp.Plot(map_dem)).publish(name='HF_elec_demand_Mecanhelas', visibility='PUBLIC')\n",
    "\n",
    "map_dem"
   ]
  },
  {
   "cell_type": "markdown",
   "metadata": {},
   "source": [
    "# Step 4. Assign HF target demand back to pop clusters\n",
    "\n",
    "Electricity demand of each Health Facility is assigned to the closest cluster."
   ]
  },
  {
   "cell_type": "markdown",
   "metadata": {},
   "source": [
    "#### Find nearest cluster"
   ]
  },
  {
   "cell_type": "code",
   "execution_count": 56,
   "metadata": {},
   "outputs": [],
   "source": [
    "HF[\"id\"] = HF.apply(calculate_nearest, destination=clusters_centroid, val=\"id\", axis=1)"
   ]
  },
  {
   "cell_type": "markdown",
   "metadata": {},
   "source": [
    "#### Merge result to initial clusters"
   ]
  },
  {
   "cell_type": "code",
   "execution_count": 57,
   "metadata": {},
   "outputs": [],
   "source": [
    "clusters_gdf = gpd.read_file(clusters_path + \"\\\\\" + clusters_name)"
   ]
  },
  {
   "cell_type": "code",
   "execution_count": 58,
   "metadata": {},
   "outputs": [],
   "source": [
    "final_clusters_HF_kWh = HF.merge(clusters_gdf, how=\"outer\", on='id')"
   ]
  },
  {
   "cell_type": "markdown",
   "metadata": {},
   "source": [
    "#### Tidy up output"
   ]
  },
  {
   "cell_type": "code",
   "execution_count": 59,
   "metadata": {},
   "outputs": [
    {
     "data": {
      "text/plain": [
       "Index(['Country_x', 'Admin1', 'fcname', 'fctype', 'Ownership', 'Lat', 'Lon',\n",
       "       'LL source', 'geometry_x', 'index', 'elecpop_sum', 'pop_sum',\n",
       "       'urban_mean', 'no_of_clusters', 'HF_Cat', 'HF_kWh', 'id', 'ElecPop',\n",
       "       'NightLight', 'Country_y', 'Population', 'Area', 'IsUrban',\n",
       "       'geometry_y'],\n",
       "      dtype='object')"
      ]
     },
     "execution_count": 59,
     "metadata": {},
     "output_type": "execute_result"
    }
   ],
   "source": [
    "final_clusters_HF_kWh.columns"
   ]
  },
  {
   "cell_type": "code",
   "execution_count": 60,
   "metadata": {},
   "outputs": [],
   "source": [
    "# Select columns to be deleted\n",
    "droping_cols = ['Country_x', 'Admin1', 'Ownership', 'LL source', 'geometry_x','elecpop_sum', 'pop_sum', \n",
    "                'urban_mean', 'no_of_clusters', 'index']\n",
    "\n",
    "# Drop selected columns\n",
    "final_clusters_HF_kWh.drop(droping_cols, axis=1, inplace=True)"
   ]
  },
  {
   "cell_type": "code",
   "execution_count": 61,
   "metadata": {},
   "outputs": [
    {
     "data": {
      "text/plain": [
       "Index(['fcname', 'fctype', 'Lat', 'Lon', 'HF_Cat', 'HF_kWh', 'id', 'ElecPop',\n",
       "       'NightLight', 'Country_y', 'Population', 'Area', 'IsUrban',\n",
       "       'geometry_y'],\n",
       "      dtype='object')"
      ]
     },
     "execution_count": 61,
     "metadata": {},
     "output_type": "execute_result"
    }
   ],
   "source": [
    "final_clusters_HF_kWh.columns"
   ]
  },
  {
   "cell_type": "code",
   "execution_count": 62,
   "metadata": {},
   "outputs": [],
   "source": [
    "# Rename columns\n",
    "final_clusters_HF_kWh.rename(columns={ 'fcname': 'HF_name',\n",
    "                                      'fctype':'HF_type',\n",
    "                                      'Lat':'HF_lat',\n",
    "                                      'Lon':'HF_lon',\n",
    "                                      'Lat':'HF_lat',\n",
    "                                      'Country_y':'Country',\n",
    "                                     'geometry_y': 'geometry'}, inplace=True)"
   ]
  },
  {
   "cell_type": "code",
   "execution_count": 63,
   "metadata": {},
   "outputs": [
    {
     "data": {
      "text/html": [
       "<div>\n",
       "<style scoped>\n",
       "    .dataframe tbody tr th:only-of-type {\n",
       "        vertical-align: middle;\n",
       "    }\n",
       "\n",
       "    .dataframe tbody tr th {\n",
       "        vertical-align: top;\n",
       "    }\n",
       "\n",
       "    .dataframe thead th {\n",
       "        text-align: right;\n",
       "    }\n",
       "</style>\n",
       "<table border=\"1\" class=\"dataframe\">\n",
       "  <thead>\n",
       "    <tr style=\"text-align: right;\">\n",
       "      <th></th>\n",
       "      <th>HF_name</th>\n",
       "      <th>HF_type</th>\n",
       "      <th>HF_lat</th>\n",
       "      <th>HF_lon</th>\n",
       "      <th>HF_Cat</th>\n",
       "      <th>HF_kWh</th>\n",
       "      <th>id</th>\n",
       "      <th>ElecPop</th>\n",
       "      <th>NightLight</th>\n",
       "      <th>Country</th>\n",
       "      <th>Population</th>\n",
       "      <th>Area</th>\n",
       "      <th>IsUrban</th>\n",
       "      <th>geometry</th>\n",
       "    </tr>\n",
       "  </thead>\n",
       "  <tbody>\n",
       "    <tr>\n",
       "      <th>0</th>\n",
       "      <td>Candulo Centro de Saude Rural II</td>\n",
       "      <td>Centro de Saude Rural II</td>\n",
       "      <td>-15.2897</td>\n",
       "      <td>35.9478</td>\n",
       "      <td>3.0</td>\n",
       "      <td>13505.0</td>\n",
       "      <td>396096</td>\n",
       "      <td>0.000000</td>\n",
       "      <td>0.00000</td>\n",
       "      <td>Mozambique</td>\n",
       "      <td>1464.328201</td>\n",
       "      <td>0.682</td>\n",
       "      <td>1</td>\n",
       "      <td>MULTIPOLYGON (((35.95044 -15.28381, 35.95044 -...</td>\n",
       "    </tr>\n",
       "    <tr>\n",
       "      <th>1</th>\n",
       "      <td>Caronga Centro de Saude Rural II</td>\n",
       "      <td>Centro de Saude Rural II</td>\n",
       "      <td>-14.9519</td>\n",
       "      <td>36.1639</td>\n",
       "      <td>3.0</td>\n",
       "      <td>13505.0</td>\n",
       "      <td>657201</td>\n",
       "      <td>695.119971</td>\n",
       "      <td>0.21574</td>\n",
       "      <td>Mozambique</td>\n",
       "      <td>768.388641</td>\n",
       "      <td>0.741</td>\n",
       "      <td>1</td>\n",
       "      <td>MULTIPOLYGON (((36.16126 -14.94881, 36.16126 -...</td>\n",
       "    </tr>\n",
       "  </tbody>\n",
       "</table>\n",
       "</div>"
      ],
      "text/plain": [
       "                            HF_name                   HF_type   HF_lat  \\\n",
       "0  Candulo Centro de Saude Rural II  Centro de Saude Rural II -15.2897   \n",
       "1  Caronga Centro de Saude Rural II  Centro de Saude Rural II -14.9519   \n",
       "\n",
       "    HF_lon  HF_Cat   HF_kWh      id     ElecPop  NightLight     Country  \\\n",
       "0  35.9478     3.0  13505.0  396096    0.000000     0.00000  Mozambique   \n",
       "1  36.1639     3.0  13505.0  657201  695.119971     0.21574  Mozambique   \n",
       "\n",
       "    Population   Area  IsUrban  \\\n",
       "0  1464.328201  0.682        1   \n",
       "1   768.388641  0.741        1   \n",
       "\n",
       "                                            geometry  \n",
       "0  MULTIPOLYGON (((35.95044 -15.28381, 35.95044 -...  \n",
       "1  MULTIPOLYGON (((36.16126 -14.94881, 36.16126 -...  "
      ]
     },
     "execution_count": 63,
     "metadata": {},
     "output_type": "execute_result"
    }
   ],
   "source": [
    "final_clusters_HF_kWh.head(2)"
   ]
  },
  {
   "cell_type": "code",
   "execution_count": 64,
   "metadata": {},
   "outputs": [],
   "source": [
    "#Function to change the order of columns in the dataframe \n",
    "def change_column_order(df, col_name, index):\n",
    "    cols = df.columns.tolist()\n",
    "    cols.remove(col_name)\n",
    "    cols.insert(index, col_name)\n",
    "    return df[cols]"
   ]
  },
  {
   "cell_type": "code",
   "execution_count": 65,
   "metadata": {},
   "outputs": [],
   "source": [
    "final_clusters_HF_kWh = change_column_order(final_clusters_HF_kWh, 'id', 0)\n",
    "final_clusters_HF_kWh = change_column_order(final_clusters_HF_kWh, 'geometry', 1)\n",
    "final_clusters_HF_kWh = change_column_order(final_clusters_HF_kWh, 'Country', 2)\n",
    "final_clusters_HF_kWh = change_column_order(final_clusters_HF_kWh, 'Population', 3)\n",
    "final_clusters_HF_kWh = change_column_order(final_clusters_HF_kWh, 'Area', 4)\n",
    "final_clusters_HF_kWh = change_column_order(final_clusters_HF_kWh, 'IsUrban', 5)\n",
    "final_clusters_HF_kWh = change_column_order(final_clusters_HF_kWh, 'NightLight', 6)\n",
    "final_clusters_HF_kWh = change_column_order(final_clusters_HF_kWh, 'ElecPop', 7)\n",
    "final_clusters_HF_kWh = change_column_order(final_clusters_HF_kWh, 'HF_name', 8)\n",
    "final_clusters_HF_kWh = change_column_order(final_clusters_HF_kWh, 'HF_type', 9)\n",
    "final_clusters_HF_kWh = change_column_order(final_clusters_HF_kWh, 'HF_lon', 10)\n",
    "final_clusters_HF_kWh = change_column_order(final_clusters_HF_kWh, 'HF_lat', 12)\n",
    "final_clusters_HF_kWh = change_column_order(final_clusters_HF_kWh, 'HF_Cat', 13)\n",
    "final_clusters_HF_kWh = change_column_order(final_clusters_HF_kWh, 'HF_kWh', 14)"
   ]
  },
  {
   "cell_type": "code",
   "execution_count": 66,
   "metadata": {},
   "outputs": [
    {
     "data": {
      "text/html": [
       "<div>\n",
       "<style scoped>\n",
       "    .dataframe tbody tr th:only-of-type {\n",
       "        vertical-align: middle;\n",
       "    }\n",
       "\n",
       "    .dataframe tbody tr th {\n",
       "        vertical-align: top;\n",
       "    }\n",
       "\n",
       "    .dataframe thead th {\n",
       "        text-align: right;\n",
       "    }\n",
       "</style>\n",
       "<table border=\"1\" class=\"dataframe\">\n",
       "  <thead>\n",
       "    <tr style=\"text-align: right;\">\n",
       "      <th></th>\n",
       "      <th>id</th>\n",
       "      <th>geometry</th>\n",
       "      <th>Country</th>\n",
       "      <th>Population</th>\n",
       "      <th>Area</th>\n",
       "      <th>IsUrban</th>\n",
       "      <th>NightLight</th>\n",
       "      <th>ElecPop</th>\n",
       "      <th>HF_name</th>\n",
       "      <th>HF_type</th>\n",
       "      <th>HF_lon</th>\n",
       "      <th>HF_lat</th>\n",
       "      <th>HF_Cat</th>\n",
       "      <th>HF_kWh</th>\n",
       "    </tr>\n",
       "  </thead>\n",
       "  <tbody>\n",
       "    <tr>\n",
       "      <th>0</th>\n",
       "      <td>396096</td>\n",
       "      <td>MULTIPOLYGON (((35.95044 -15.28381, 35.95044 -...</td>\n",
       "      <td>Mozambique</td>\n",
       "      <td>1464.328201</td>\n",
       "      <td>0.682</td>\n",
       "      <td>1</td>\n",
       "      <td>0.00000</td>\n",
       "      <td>0.000000</td>\n",
       "      <td>Candulo Centro de Saude Rural II</td>\n",
       "      <td>Centro de Saude Rural II</td>\n",
       "      <td>35.9478</td>\n",
       "      <td>-15.2897</td>\n",
       "      <td>3.0</td>\n",
       "      <td>13505.0</td>\n",
       "    </tr>\n",
       "    <tr>\n",
       "      <th>1</th>\n",
       "      <td>657201</td>\n",
       "      <td>MULTIPOLYGON (((36.16126 -14.94881, 36.16126 -...</td>\n",
       "      <td>Mozambique</td>\n",
       "      <td>768.388641</td>\n",
       "      <td>0.741</td>\n",
       "      <td>1</td>\n",
       "      <td>0.21574</td>\n",
       "      <td>695.119971</td>\n",
       "      <td>Caronga Centro de Saude Rural II</td>\n",
       "      <td>Centro de Saude Rural II</td>\n",
       "      <td>36.1639</td>\n",
       "      <td>-14.9519</td>\n",
       "      <td>3.0</td>\n",
       "      <td>13505.0</td>\n",
       "    </tr>\n",
       "  </tbody>\n",
       "</table>\n",
       "</div>"
      ],
      "text/plain": [
       "       id                                           geometry     Country  \\\n",
       "0  396096  MULTIPOLYGON (((35.95044 -15.28381, 35.95044 -...  Mozambique   \n",
       "1  657201  MULTIPOLYGON (((36.16126 -14.94881, 36.16126 -...  Mozambique   \n",
       "\n",
       "    Population   Area  IsUrban  NightLight     ElecPop  \\\n",
       "0  1464.328201  0.682        1     0.00000    0.000000   \n",
       "1   768.388641  0.741        1     0.21574  695.119971   \n",
       "\n",
       "                            HF_name                   HF_type   HF_lon  \\\n",
       "0  Candulo Centro de Saude Rural II  Centro de Saude Rural II  35.9478   \n",
       "1  Caronga Centro de Saude Rural II  Centro de Saude Rural II  36.1639   \n",
       "\n",
       "    HF_lat  HF_Cat   HF_kWh  \n",
       "0 -15.2897     3.0  13505.0  \n",
       "1 -14.9519     3.0  13505.0  "
      ]
     },
     "execution_count": 66,
     "metadata": {},
     "output_type": "execute_result"
    }
   ],
   "source": [
    "final_clusters_HF_kWh.head(2)"
   ]
  },
  {
   "cell_type": "markdown",
   "metadata": {},
   "source": [
    "------------------------------------------------------------------------------------\n",
    "\n",
    "# Step 5. Map results and export pop cluster dataset "
   ]
  },
  {
   "cell_type": "code",
   "execution_count": 67,
   "metadata": {},
   "outputs": [],
   "source": [
    "final_clusters_HF_kWh_gdf = gpd.GeoDataFrame(final_clusters_HF_kWh, geometry='geometry', crs={'init': 'epsg:4326'})"
   ]
  },
  {
   "cell_type": "code",
   "execution_count": 68,
   "metadata": {
    "scrolled": false
   },
   "outputs": [
    {
     "data": {
      "image/png": "[encoded data removed]",
      "text/plain": [
       "<Figure size 720x720 with 2 Axes>"
      ]
     },
     "metadata": {
      "needs_background": "light"
     },
     "output_type": "display_data"
    }
   ],
   "source": [
    "# Create the axis first\n",
    "fig, ax = plt.subplots(figsize=(10, 10))\n",
    "\n",
    "admin_gdf.plot(ax=ax, edgecolor='brown', alpha=0.2)\n",
    "\n",
    "final_clusters_HF_kWh_gdf.sort_values('HF_kWh', ascending=True).plot(ax=ax, column='HF_kWh',\n",
    "                           legend=True, markersize=3, cmap=\"viridis\",\n",
    "                           figsize=(10, 10), alpha=0.5)\n",
    "\n",
    "ax.set_aspect('equal', 'box')\n",
    "txt = ax.set_title('Electricity requirements (kWh/year) for HF in Mecanhelas'.format(\"\"))\n",
    "\n",
    "# Save plot as figure \n",
    "#plt.savefig(os.path.join(sample_output, 'xxxxx.png'), bbox_inches='tight')\n",
    "#logging.getLogger('matplotlib.font_manager').disabled = True"
   ]
  },
  {
   "cell_type": "markdown",
   "metadata": {},
   "source": [
    "#### Export layer to geopackage"
   ]
  },
  {
   "cell_type": "code",
   "execution_count": 69,
   "metadata": {},
   "outputs": [],
   "source": [
    "#final_clusters_HF_kWh_gdf.to_file(\"Mecanhelas_HF_kWh.gpkg\", driver=\"GPKG\")"
   ]
  },
  {
   "cell_type": "markdown",
   "metadata": {},
   "source": [
    "# Final Remarks\n",
    "\n",
    "* This is an exploratory approach, based only on existing, open access datasets. Thus it can only provide a rough \"first go\" over the attempt to quantify electricity demand in health facilities in Sub-Saharan Africa especially in remote, rural areas where not much data is available.\n",
    "\n",
    "\n",
    "* The analysis can be improved by:\n",
    "    * working with more detailed data of geolocated health facilities; such datasets might already exists within national agencies such as the Census Bureau/Department, Public Statistics, National survey and mapping agency, digital mapping agency, as well as other Departments/Ministries.\n",
    "    * Working in close collaboration with local stakeholders from the health and energy practice in the targeted area, in order to better calibrate the method presented here.\n",
    "    * Using survey data and ML techniques to develop a more comprehensive classification algorithm for either the type or the electricity requirements of health facilities.\n",
    "    \n",
    "\n",
    "* Upon satisfactory results, the final product (population clusters including electricity demand for Health Facilities) can be used in a geospatial electrification model for the development of a least-cost investment plan. An example is the [GEP-OnSSET model](https://github.com/global-electrification-platform/gep-onsset), which has been recently modified to allow inclusion of productive uses of electricity. \n",
    "\n",
    "For reference, you may check out the following maps indicating the least-cost electrification option for Health Clinics and/or the population clusters associated with these health clinics in Mozambique. \n",
    "\n",
    ">**Note!!** The results are only illustrative."
   ]
  },
  {
   "cell_type": "markdown",
   "metadata": {},
   "source": [
    "**Map 1**: Location of Health Facilities in Mozambique including their least-cost electrification technology"
   ]
  },
  {
   "cell_type": "code",
   "execution_count": 70,
   "metadata": {},
   "outputs": [
    {
     "data": {
      "text/html": [
       "<a href='maps/GEP_CustomDemand_AND_HealthFacilities_HealthSites.html' target='_blank'>maps/GEP_CustomDemand_AND_HealthFacilities_HealthSites.html</a><br>"
      ],
      "text/plain": [
       "C:\\Users\\alexl\\Dropbox\\Self-employment\\WBG\\Work\\GEP\\PUoE\\maps\\GEP_CustomDemand_AND_HealthFacilities_HealthSites.html"
      ]
     },
     "execution_count": 70,
     "metadata": {},
     "output_type": "execute_result"
    }
   ],
   "source": [
    "FileLink('maps/GEP_CustomDemand_AND_HealthFacilities_HealthSites.html')"
   ]
  },
  {
   "cell_type": "markdown",
   "metadata": {},
   "source": [
    "**Map 2:** Least-cost electrification plan for population clusters associated with one or more health facilities in Mozambique"
   ]
  },
  {
   "cell_type": "code",
   "execution_count": 71,
   "metadata": {},
   "outputs": [
    {
     "data": {
      "text/html": [
       "<a href='maps/GEP_CustomDemand_AND_HealthFacilities_ElectrificationOfClusters.html' target='_blank'>maps/GEP_CustomDemand_AND_HealthFacilities_ElectrificationOfClusters.html</a><br>"
      ],
      "text/plain": [
       "C:\\Users\\alexl\\Dropbox\\Self-employment\\WBG\\Work\\GEP\\PUoE\\maps\\GEP_CustomDemand_AND_HealthFacilities_ElectrificationOfClusters.html"
      ]
     },
     "execution_count": 71,
     "metadata": {},
     "output_type": "execute_result"
    }
   ],
   "source": [
    "FileLink('maps/GEP_CustomDemand_AND_HealthFacilities_ElectrificationOfClusters.html')"
   ]
  }
 ],
 "metadata": {
  "kernelspec": {
   "display_name": "Python 3",
   "language": "python",
   "name": "python3"
  },
  "language_info": {
   "codemirror_mode": {
    "name": "ipython",
    "version": 3
   },
   "file_extension": ".py",
   "mimetype": "text/x-python",
   "name": "python",
   "nbconvert_exporter": "python",
   "pygments_lexer": "ipython3",
   "version": "3.7.3"
  }
 },
 "nbformat": 4,
 "nbformat_minor": 4
}
